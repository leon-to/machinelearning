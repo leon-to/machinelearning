{
 "cells": [
  {
   "cell_type": "code",
   "execution_count": 61,
   "metadata": {},
   "outputs": [
    {
     "name": "stdout",
     "output_type": "stream",
     "text": [
      "[70 64 58]\n",
      "[9.35762297e-14 2.31952283e-16 5.74952226e-19]\n",
      "[2.51543867e+30 6.23514908e+27 1.54553894e+25]\n",
      "0.8807970779778823\n",
      "[3.97544974e-31 1.60381089e-28 6.47023493e-26]\n",
      "14.0\n",
      "26.53333333333333\n",
      "[-0.4        -1.03333333 -1.66666667]\n"
     ]
    }
   ],
   "source": [
    "import numpy as np\n",
    "\n",
    "W = np.array([1,2,3])\n",
    "b = -100\n",
    "x = np.array([[1,2,3], [4,5,6], [7,8,9]])\n",
    "y = np.array([0.1, 0.5, 0.7])\n",
    "reg = 2\n",
    "\n",
    "print (_y_hat(W, b, x))\n",
    "print (_L_W(reg, W))\n",
    "print (_L_D(W, b, x, y))\n",
    "print (gradCE(W, b, x, y, reg))\n",
    "# print (_sigmoid(1))\n",
    "#     for n in range(N):\n",
    "#         y_prime = gamma(np.trans)"
   ]
  },
  {
   "cell_type": "code",
   "execution_count": 67,
   "metadata": {},
   "outputs": [
    {
     "name": "stdout",
     "output_type": "stream",
     "text": [
      "[[[0.         0.         0.         ... 0.98431373 0.54117647 0.0627451 ]\n",
      "  [0.         0.         0.         ... 1.         0.85882353 0.22745098]\n",
      "  [0.         0.         0.         ... 0.22352941 0.03529412 0.        ]\n",
      "  ...\n",
      "  [0.92156863 1.         0.92156863 ... 0.         0.         0.        ]\n",
      "  [0.55686275 1.         0.68627451 ... 0.         0.         0.        ]\n",
      "  [0.07843137 0.29411765 0.18431373 ... 0.         0.         0.        ]]\n",
      "\n",
      " [[0.         0.         0.         ... 0.20784314 0.         0.01176471]\n",
      "  [0.         0.         0.         ... 0.95294118 0.40784314 0.        ]\n",
      "  [0.         0.         0.         ... 0.98823529 1.         0.38431373]\n",
      "  ...\n",
      "  [0.         0.01176471 0.         ... 0.         0.00392157 0.00392157]\n",
      "  [0.         0.         0.00784314 ... 0.00784314 0.00784314 0.        ]\n",
      "  [0.         0.         0.         ... 0.         0.         0.        ]]\n",
      "\n",
      " [[0.         0.         0.         ... 0.         0.01176471 0.00784314]\n",
      "  [0.         0.         0.         ... 0.14117647 0.         0.00392157]\n",
      "  [0.         0.         0.         ... 0.97254902 0.64313725 0.14117647]\n",
      "  ...\n",
      "  [0.         0.         0.         ... 0.59215686 0.         0.00392157]\n",
      "  [0.         0.         0.         ... 0.13333333 0.         0.00392157]\n",
      "  [0.         0.         0.         ... 0.         0.         0.        ]]\n",
      "\n",
      " ...\n",
      "\n",
      " [[0.         0.         0.         ... 1.         1.         1.        ]\n",
      "  [0.         0.         0.         ... 1.         1.         1.        ]\n",
      "  [0.         0.         0.         ... 1.         1.         1.        ]\n",
      "  ...\n",
      "  [0.         0.09803922 0.69411765 ... 0.03921569 0.         0.00392157]\n",
      "  [0.00392157 0.         0.00392157 ... 0.01176471 0.         0.        ]\n",
      "  [0.         0.00784314 0.00784314 ... 0.00392157 0.         0.        ]]\n",
      "\n",
      " [[0.         0.         0.         ... 0.77647059 0.43529412 0.        ]\n",
      "  [0.         0.         0.         ... 0.97254902 0.74901961 0.        ]\n",
      "  [0.         0.         0.         ... 0.98823529 0.88627451 0.01960784]\n",
      "  ...\n",
      "  [0.52941176 0.95686275 1.         ... 0.         0.         0.        ]\n",
      "  [0.         0.40784314 0.78039216 ... 0.00392157 0.         0.        ]\n",
      "  [0.         0.         0.03529412 ... 0.         0.         0.        ]]\n",
      "\n",
      " [[0.         0.         0.         ... 1.         1.         1.        ]\n",
      "  [0.         0.         0.         ... 1.         1.         1.        ]\n",
      "  [0.         0.         0.         ... 1.         1.         1.        ]\n",
      "  ...\n",
      "  [1.         1.         1.         ... 1.         1.         1.        ]\n",
      "  [1.         1.         1.         ... 1.         1.         1.        ]\n",
      "  [1.         1.         1.         ... 1.         1.         1.        ]]]\n"
     ]
    }
   ],
   "source": [
    "with np.load('notMNIST.npz') as data :\n",
    "    Data, Target = data ['images'], data['labels']\n",
    "    posClass = 2\n",
    "    negClass = 9\n",
    "    dataIndx = (Target==posClass) + (Target==negClass)\n",
    "    Data = Data[dataIndx]/255.\n",
    "    Target = Target[dataIndx].reshape(-1, 1)\n",
    "    Target[Target==posClass] = 1\n",
    "    Target[Target==negClass] = 0\n",
    "    np.random.seed(521)\n",
    "    randIndx = np.arange(len(Data))\n",
    "    np.random.shuffle(randIndx)\n",
    "    Data, Target = Data[randIndx], Target[randIndx]\n",
    "    trainData, trainTarget = Data[:3500], Target[:3500]\n",
    "    validData, validTarget = Data[3500:3600], Target[3500:3600]\n",
    "    testData, testTarget = Data[3600:], Target[3600:]\n",
    "    \n",
    "    "
   ]
  },
  {
   "cell_type": "code",
   "execution_count": 7,
   "metadata": {
    "collapsed": true
   },
   "outputs": [],
   "source": [
    "def _sigmoid(z):\n",
    "    return 1/(1+np.exp(-z))"
   ]
  },
  {
   "cell_type": "code",
   "execution_count": 4,
   "metadata": {
    "collapsed": true
   },
   "outputs": [],
   "source": [
    "def _y_hat(W, b, x):\n",
    "    return _sigmoid (np.dot(W, x) + b)"
   ]
  },
  {
   "cell_type": "code",
   "execution_count": 13,
   "metadata": {
    "collapsed": true
   },
   "outputs": [],
   "source": [
    "def _L_W(reg, W):\n",
    "    return reg/2 * (np.linalg.norm(W,2)**2) #Euclidean Norm at 2nd order"
   ]
  },
  {
   "cell_type": "code",
   "execution_count": null,
   "metadata": {
    "collapsed": true
   },
   "outputs": [],
   "source": [
    "# TODO: def _sigma(N, )"
   ]
  },
  {
   "attachments": {
    "image.png": {
     "image/png": "[encoded data removed]"
    }
   },
   "cell_type": "markdown",
   "metadata": {
    "slideshow": {
     "slide_type": "slide"
    }
   },
   "source": [
    "![image.png](attachment:image.png)"
   ]
  },
  {
   "cell_type": "code",
   "execution_count": 54,
   "metadata": {
    "collapsed": true
   },
   "outputs": [],
   "source": [
    "def _L_D(W, b, x, y):\n",
    "    N = len(y)\n",
    "    y_hat = _y_hat(W, b, x)\n",
    "    L_D = (- y*np.log(y_hat) - (1-y)*np.log(1-y_hat) ).sum() / N\n",
    "    return L_D"
   ]
  },
  {
   "cell_type": "code",
   "execution_count": 19,
   "metadata": {
    "collapsed": true
   },
   "outputs": [],
   "source": [
    "#vectorized cross entropy loss\n",
    "def crossEntropyLoss(W, b, x, y, reg):\n",
    "    L_D = _L_D(W, b, x, y)\n",
    "    L_W = _L_W(reg, W)\n",
    "    L = L_D + L_W\n",
    "    return L    "
   ]
  },
  {
   "cell_type": "markdown",
   "metadata": {},
   "source": [
    "C′=x(s(z)−y)"
   ]
  },
  {
   "cell_type": "code",
   "execution_count": 60,
   "metadata": {
    "collapsed": true
   },
   "outputs": [],
   "source": [
    "def gradCE(W, b, x, y, reg):\n",
    "    N = len(y)\n",
    "    grad = np.dot(x, _y_hat(W, b, x) - y) / N + reg*W\n",
    "    return grad"
   ]
  },
  {
   "cell_type": "code",
   "execution_count": null,
   "metadata": {
    "collapsed": true
   },
   "outputs": [],
   "source": [
    "def grad_descent(W, b, x, y, alpha, epochs, reg, EPS, lossType=\"None\"):\n",
    "    \n",
    "    for t in range(epochs):\n",
    "        g_t = gradCE(W, b, x, y, reg) \n",
    "        u_t = -g_t/np.linalg(g_t) \n",
    "        w_t += alpha*u_t "
   ]
  }
 ],
 "metadata": {
  "kernelspec": {
   "display_name": "Python 3",
   "language": "python",
   "name": "python3"
  },
  "language_info": {
   "codemirror_mode": {
    "name": "ipython",
    "version": 3
   },
   "file_extension": ".py",
   "mimetype": "text/x-python",
   "name": "python",
   "nbconvert_exporter": "python",
   "pygments_lexer": "ipython3",
   "version": "3.6.2"
  }
 },
 "nbformat": 4,
 "nbformat_minor": 2
}
